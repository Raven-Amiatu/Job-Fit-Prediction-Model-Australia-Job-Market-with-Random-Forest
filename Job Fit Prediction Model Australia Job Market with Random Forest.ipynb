{
 "cells": [
  {
   "cell_type": "markdown",
   "id": "1e1aa3d1-1ef1-4dfa-acb6-7eaa5277c0fb",
   "metadata": {},
   "source": [
    "# Job Fit Prediction Model Australia Job Market with Random Forest"
   ]
  },
  {
   "cell_type": "markdown",
   "id": "876377db-781f-439c-afc7-8a0dca2ae09e",
   "metadata": {},
   "source": [
    "This project was created to streamline my job application process in the competitive Australian market. With limited time to tailor my resume for each role, I wanted a data-driven approach to prioritize opportunities that align with my skills and experience.\n",
    "\n",
    "This model analyzes job descriptions and cross-references them with my qualifications, using predefined criteria to evaluate the potential fit. The output is a simple, actionable recommendation: \"Yes\", the job is worth applying for, or \"No\", it isn’t.\n",
    "\n",
    "By automating this decision-making process, I can focus my efforts on roles where I have the highest chance of securing an interview—saving time and ensuring precision in my applications. This project reflects not only my technical capabilities but also my commitment to leveraging data science in solving real-world problems."
   ]
  },
  {
   "cell_type": "markdown",
   "id": "d03502d5-80bb-4a75-8005-dc6cb7d4ca1a",
   "metadata": {},
   "source": [
    "## Table of Contents\n",
    "\n",
    "1. [Import libraries](#Import-libraries)\n",
    "2. [Import dataset](#Import-dataset)\n",
    "3. [Exploratory data analysis](#Exploratory-data-analysis)\n",
    "4. [Declare variables](#Declare-variables)\n",
    "5. [Split data into training and test set](#Split-data-into-training-and-test-set)\n",
    "6. [Random Forest Classifier model](#Random-Forest-Classifier-model)\n",
    "7. [Model Evaluation](#Model-Evaluation)\n",
    "8. [Results and conclusion](#Results-and-conclusion)"
   ]
  },
  {
   "cell_type": "markdown",
   "id": "a285373f-688c-4ffd-8dad-84759255e99c",
   "metadata": {},
   "source": [
    "## Import libraries"
   ]
  },
  {
   "cell_type": "code",
   "execution_count": 35,
   "id": "fa34c632-e7e1-481d-9b52-1bf268330511",
   "metadata": {},
   "outputs": [],
   "source": [
    "import numpy as np\n",
    "import pandas as pd\n",
    "import matplotlib.pyplot as plt\n",
    "import seaborn as sns"
   ]
  },
  {
   "cell_type": "markdown",
   "id": "8e95cb3f-b685-4a42-a294-fc9991c075f2",
   "metadata": {},
   "source": [
    "## Import dataset"
   ]
  },
  {
   "cell_type": "code",
   "execution_count": 36,
   "id": "c7511d34-849b-46c3-b004-8d40548e8971",
   "metadata": {},
   "outputs": [],
   "source": [
    "df = pd.read_csv('DS Job Market Data Set.csv')"
   ]
  },
  {
   "cell_type": "markdown",
   "id": "54f9bb03-f0a6-4105-af43-f2d64dba1303",
   "metadata": {},
   "source": [
    "## Exploratory data analysis"
   ]
  },
  {
   "cell_type": "code",
   "execution_count": 37,
   "id": "f20248e6-bde7-428d-880b-eccd725db59e",
   "metadata": {},
   "outputs": [
    {
     "data": {
      "text/plain": [
       "(25, 12)"
      ]
     },
     "execution_count": 37,
     "metadata": {},
     "output_type": "execute_result"
    }
   ],
   "source": [
    "df.shape"
   ]
  },
  {
   "cell_type": "code",
   "execution_count": 38,
   "id": "fee32dc6-0fda-41ec-960f-657baf336e86",
   "metadata": {},
   "outputs": [
    {
     "data": {
      "text/html": [
       "<div>\n",
       "<style scoped>\n",
       "    .dataframe tbody tr th:only-of-type {\n",
       "        vertical-align: middle;\n",
       "    }\n",
       "\n",
       "    .dataframe tbody tr th {\n",
       "        vertical-align: top;\n",
       "    }\n",
       "\n",
       "    .dataframe thead th {\n",
       "        text-align: right;\n",
       "    }\n",
       "</style>\n",
       "<table border=\"1\" class=\"dataframe\">\n",
       "  <thead>\n",
       "    <tr style=\"text-align: right;\">\n",
       "      <th></th>\n",
       "      <th>Job Title</th>\n",
       "      <th>Seniority</th>\n",
       "      <th>Job Location</th>\n",
       "      <th>Company</th>\n",
       "      <th>Estimate Base Salary</th>\n",
       "      <th>Company Size minimum</th>\n",
       "      <th>Company Sector</th>\n",
       "      <th>Min Years of experience (YOE)</th>\n",
       "      <th>SQL</th>\n",
       "      <th>PYTHON</th>\n",
       "      <th>Minimum Qualification</th>\n",
       "      <th>Appliable</th>\n",
       "    </tr>\n",
       "  </thead>\n",
       "  <tbody>\n",
       "    <tr>\n",
       "      <th>0</th>\n",
       "      <td>Data Analyst/Data Scientist</td>\n",
       "      <td>Junior</td>\n",
       "      <td>NSW</td>\n",
       "      <td>Peoplebank</td>\n",
       "      <td>100,000</td>\n",
       "      <td>200</td>\n",
       "      <td>Staffing and Recruitting</td>\n",
       "      <td>2.0</td>\n",
       "      <td>Y</td>\n",
       "      <td>N</td>\n",
       "      <td>BS</td>\n",
       "      <td>N</td>\n",
       "    </tr>\n",
       "    <tr>\n",
       "      <th>1</th>\n",
       "      <td>Data Scientist-Advanced Analytics</td>\n",
       "      <td>Junior</td>\n",
       "      <td>NSW</td>\n",
       "      <td>IBM</td>\n",
       "      <td>100,000</td>\n",
       "      <td>10000</td>\n",
       "      <td>IT Services and IT Consulting</td>\n",
       "      <td>NaN</td>\n",
       "      <td>N</td>\n",
       "      <td>Y</td>\n",
       "      <td>NaN</td>\n",
       "      <td>Y</td>\n",
       "    </tr>\n",
       "    <tr>\n",
       "      <th>2</th>\n",
       "      <td>Senior Data Scientist - Collaboration, remote ...</td>\n",
       "      <td>Senior</td>\n",
       "      <td>NSW</td>\n",
       "      <td>Canva</td>\n",
       "      <td>150,000</td>\n",
       "      <td>1000</td>\n",
       "      <td>Software Development</td>\n",
       "      <td>NaN</td>\n",
       "      <td>Y</td>\n",
       "      <td>Y</td>\n",
       "      <td>NaN</td>\n",
       "      <td>N</td>\n",
       "    </tr>\n",
       "    <tr>\n",
       "      <th>3</th>\n",
       "      <td>Data Scientist</td>\n",
       "      <td>Junior</td>\n",
       "      <td>ACT</td>\n",
       "      <td>Calleo</td>\n",
       "      <td>100,000</td>\n",
       "      <td>10</td>\n",
       "      <td>Staffing and Recruiting</td>\n",
       "      <td>NaN</td>\n",
       "      <td>Y</td>\n",
       "      <td>Y</td>\n",
       "      <td>NaN</td>\n",
       "      <td>Y</td>\n",
       "    </tr>\n",
       "    <tr>\n",
       "      <th>4</th>\n",
       "      <td>Data Scientist, Innovation Pathways, FaBA</td>\n",
       "      <td>Junior</td>\n",
       "      <td>QLD</td>\n",
       "      <td>The University of Queensland</td>\n",
       "      <td>100,000</td>\n",
       "      <td>5000</td>\n",
       "      <td>Higher Education</td>\n",
       "      <td>NaN</td>\n",
       "      <td>N</td>\n",
       "      <td>Y</td>\n",
       "      <td>M</td>\n",
       "      <td>Y</td>\n",
       "    </tr>\n",
       "  </tbody>\n",
       "</table>\n",
       "</div>"
      ],
      "text/plain": [
       "                                           Job Title Seniority  Job Location  \\\n",
       "0                        Data Analyst/Data Scientist     Junior          NSW   \n",
       "1                  Data Scientist-Advanced Analytics     Junior          NSW   \n",
       "2  Senior Data Scientist - Collaboration, remote ...     Senior          NSW   \n",
       "3                                     Data Scientist     Junior          ACT   \n",
       "4          Data Scientist, Innovation Pathways, FaBA     Junior          QLD   \n",
       "\n",
       "                        Company Estimate Base Salary  Company Size minimum  \\\n",
       "0                    Peoplebank              100,000                   200   \n",
       "1                           IBM              100,000                 10000   \n",
       "2                         Canva              150,000                  1000   \n",
       "3                        Calleo              100,000                    10   \n",
       "4  The University of Queensland              100,000                  5000   \n",
       "\n",
       "                  Company Sector  Min Years of experience (YOE) SQL PYTHON  \\\n",
       "0       Staffing and Recruitting                            2.0   Y      N   \n",
       "1  IT Services and IT Consulting                            NaN   N      Y   \n",
       "2           Software Development                            NaN   Y      Y   \n",
       "3        Staffing and Recruiting                            NaN   Y      Y   \n",
       "4               Higher Education                            NaN   N      Y   \n",
       "\n",
       "  Minimum Qualification Appliable  \n",
       "0                    BS         N  \n",
       "1                   NaN         Y  \n",
       "2                   NaN         N  \n",
       "3                   NaN         Y  \n",
       "4                     M         Y  "
      ]
     },
     "execution_count": 38,
     "metadata": {},
     "output_type": "execute_result"
    }
   ],
   "source": [
    "df.head()"
   ]
  },
  {
   "cell_type": "code",
   "execution_count": 39,
   "id": "23bcdf18-4427-46c0-9971-d4916061f15b",
   "metadata": {},
   "outputs": [
    {
     "name": "stdout",
     "output_type": "stream",
     "text": [
      "<class 'pandas.core.frame.DataFrame'>\n",
      "RangeIndex: 25 entries, 0 to 24\n",
      "Data columns (total 12 columns):\n",
      " #   Column                         Non-Null Count  Dtype  \n",
      "---  ------                         --------------  -----  \n",
      " 0   Job Title                      25 non-null     object \n",
      " 1   Seniority                      25 non-null     object \n",
      " 2   Job Location                   25 non-null     object \n",
      " 3   Company                        25 non-null     object \n",
      " 4   Estimate Base Salary           25 non-null     object \n",
      " 5   Company Size minimum           25 non-null     int64  \n",
      " 6   Company Sector                 25 non-null     object \n",
      " 7   Min Years of experience (YOE)  7 non-null      float64\n",
      " 8   SQL                            25 non-null     object \n",
      " 9   PYTHON                         25 non-null     object \n",
      " 10  Minimum Qualification          14 non-null     object \n",
      " 11  Appliable                      25 non-null     object \n",
      "dtypes: float64(1), int64(1), object(10)\n",
      "memory usage: 2.5+ KB\n"
     ]
    }
   ],
   "source": [
    "df.info()"
   ]
  },
  {
   "cell_type": "markdown",
   "id": "40834254-08ae-495a-93f9-c5a9c0809e06",
   "metadata": {},
   "source": [
    "##### Summary of variables\n",
    "- 12 variables, where 7 are redundant as either they give us no extra information or not concernted with the target variable and are removed to prevent over fitting or unnecessary complexity and noise, leaving us with only 5\n",
    "- These 5 variables are given by Seniority, Min Years of experience (YOE), SQL, PYTHON and Appliable\n",
    "- All variable are caterogrical except for Min Years of experience (YOE)\n",
    "- Appliable is the target variable    "
   ]
  },
  {
   "cell_type": "markdown",
   "id": "42809587-2f06-4722-bfc8-577f96d85ded",
   "metadata": {},
   "source": [
    "Explore the target variable:"
   ]
  },
  {
   "cell_type": "code",
   "execution_count": 40,
   "id": "8d893265-02dd-46d3-9d6a-6dc6eaf491a0",
   "metadata": {},
   "outputs": [
    {
     "data": {
      "text/plain": [
       "Appliable\n",
       "N    17\n",
       "Y     8\n",
       "Name: count, dtype: int64"
      ]
     },
     "execution_count": 40,
     "metadata": {},
     "output_type": "execute_result"
    }
   ],
   "source": [
    "df['Appliable'].value_counts()"
   ]
  },
  {
   "cell_type": "markdown",
   "id": "13d1e6f4-8458-436b-8b41-36fb5a52daac",
   "metadata": {},
   "source": [
    "We can see that the target variable is binary"
   ]
  },
  {
   "cell_type": "markdown",
   "id": "06c2479b-d06b-44b1-af8b-148d0d4c911f",
   "metadata": {},
   "source": [
    "Missing values in variables"
   ]
  },
  {
   "cell_type": "code",
   "execution_count": 41,
   "id": "f3b92d63-5d22-448b-8ea4-46f3c4c47789",
   "metadata": {},
   "outputs": [
    {
     "data": {
      "text/plain": [
       "Job Title                         0\n",
       "Seniority                         0\n",
       "Job Location                      0\n",
       "Company                           0\n",
       "Estimate Base Salary              0\n",
       "Company Size minimum              0\n",
       "Company Sector                    0\n",
       "Min Years of experience (YOE)    18\n",
       "SQL                               0\n",
       "PYTHON                            0\n",
       "Minimum Qualification            11\n",
       "Appliable                         0\n",
       "dtype: int64"
      ]
     },
     "execution_count": 41,
     "metadata": {},
     "output_type": "execute_result"
    }
   ],
   "source": [
    "df.isnull().sum()"
   ]
  },
  {
   "cell_type": "markdown",
   "id": "293d5936-feb3-49a3-976a-141e68e0fc0f",
   "metadata": {},
   "source": [
    "There are missing values in Min Years of experience (YOE) and Minimum Qualification. They refer to the 0 years in experince required and no qualifications required as stated in the job description. Therefore, the nulls are not noise. "
   ]
  },
  {
   "cell_type": "code",
   "execution_count": 42,
   "id": "3eb0c11f-60f1-4454-a824-d8dee09e6bd5",
   "metadata": {},
   "outputs": [],
   "source": [
    "df['Min Years of experience (YOE)'] = df['Min Years of experience (YOE)'].fillna(0)"
   ]
  },
  {
   "cell_type": "code",
   "execution_count": 43,
   "id": "1638fffb-7142-44a9-8e45-5ee58a9ffe04",
   "metadata": {},
   "outputs": [],
   "source": [
    "df['Minimum Qualification'] = df['Minimum Qualification'].fillna('No Qualification')"
   ]
  },
  {
   "cell_type": "code",
   "execution_count": 44,
   "id": "5d8a497f-cf17-4971-87b0-a0a655ff5551",
   "metadata": {},
   "outputs": [
    {
     "data": {
      "text/plain": [
       "Job Title                        0\n",
       "Seniority                        0\n",
       "Job Location                     0\n",
       "Company                          0\n",
       "Estimate Base Salary             0\n",
       "Company Size minimum             0\n",
       "Company Sector                   0\n",
       "Min Years of experience (YOE)    0\n",
       "SQL                              0\n",
       "PYTHON                           0\n",
       "Minimum Qualification            0\n",
       "Appliable                        0\n",
       "dtype: int64"
      ]
     },
     "execution_count": 44,
     "metadata": {},
     "output_type": "execute_result"
    }
   ],
   "source": [
    "df.isnull().sum()"
   ]
  },
  {
   "cell_type": "code",
   "execution_count": 45,
   "id": "00a27c08-1d2f-4652-b061-fddd0327ab84",
   "metadata": {},
   "outputs": [
    {
     "name": "stdout",
     "output_type": "stream",
     "text": [
      "<class 'pandas.core.frame.DataFrame'>\n",
      "RangeIndex: 25 entries, 0 to 24\n",
      "Data columns (total 12 columns):\n",
      " #   Column                         Non-Null Count  Dtype  \n",
      "---  ------                         --------------  -----  \n",
      " 0   Job Title                      25 non-null     object \n",
      " 1   Seniority                      25 non-null     object \n",
      " 2   Job Location                   25 non-null     object \n",
      " 3   Company                        25 non-null     object \n",
      " 4   Estimate Base Salary           25 non-null     object \n",
      " 5   Company Size minimum           25 non-null     int64  \n",
      " 6   Company Sector                 25 non-null     object \n",
      " 7   Min Years of experience (YOE)  25 non-null     float64\n",
      " 8   SQL                            25 non-null     object \n",
      " 9   PYTHON                         25 non-null     object \n",
      " 10  Minimum Qualification          25 non-null     object \n",
      " 11  Appliable                      25 non-null     object \n",
      "dtypes: float64(1), int64(1), object(10)\n",
      "memory usage: 2.5+ KB\n"
     ]
    }
   ],
   "source": [
    "df.info()"
   ]
  },
  {
   "cell_type": "markdown",
   "id": "188b4b54-a1ff-4ce1-92f8-010e2bd1acfb",
   "metadata": {},
   "source": [
    "After replacing the NaN values in column Min Years of experience (YOE) with int 0, and replacing Nan values in Minimum Qualification with string 'No Qualification', all values in the data frame are non-null."
   ]
  },
  {
   "cell_type": "markdown",
   "id": "845bb013-9267-4aba-a1ea-a68dd7e9c04a",
   "metadata": {},
   "source": [
    "## Declare variables"
   ]
  },
  {
   "cell_type": "code",
   "execution_count": 46,
   "id": "8f222ecf-98a6-461f-a6b8-a1fe13814ccc",
   "metadata": {},
   "outputs": [],
   "source": [
    "X = df.drop(['Appliable', 'Job Title', 'Job Location','Company', 'Estimate Base Salary', 'Company Size minimum', 'Company Sector', 'Minimum Qualification'], axis=1)\n",
    "y = df['Appliable']"
   ]
  },
  {
   "cell_type": "markdown",
   "id": "aea0c55b-6029-47d4-9659-fb6d241375d4",
   "metadata": {},
   "source": [
    "## Split data into training and test set"
   ]
  },
  {
   "cell_type": "code",
   "execution_count": 65,
   "id": "6b98d1e7-2a7c-4eb1-94e9-9a3cdba633d9",
   "metadata": {},
   "outputs": [],
   "source": [
    "from sklearn.model_selection import train_test_split\n",
    "\n",
    "X_train, X_test, y_train, y_test = train_test_split(X, y, test_size = 0.33, random_state = 42)"
   ]
  },
  {
   "cell_type": "code",
   "execution_count": 66,
   "id": "fb147428-f00a-469a-b34f-e5bc395b7d11",
   "metadata": {},
   "outputs": [
    {
     "data": {
      "text/plain": [
       "((16, 4), (9, 4))"
      ]
     },
     "execution_count": 66,
     "metadata": {},
     "output_type": "execute_result"
    }
   ],
   "source": [
    "X_train.shape, X_test.shape"
   ]
  },
  {
   "cell_type": "code",
   "execution_count": 67,
   "id": "859b9cc9-26e0-4f7f-96ee-862ef0d07a6c",
   "metadata": {},
   "outputs": [
    {
     "data": {
      "text/html": [
       "<div>\n",
       "<style scoped>\n",
       "    .dataframe tbody tr th:only-of-type {\n",
       "        vertical-align: middle;\n",
       "    }\n",
       "\n",
       "    .dataframe tbody tr th {\n",
       "        vertical-align: top;\n",
       "    }\n",
       "\n",
       "    .dataframe thead th {\n",
       "        text-align: right;\n",
       "    }\n",
       "</style>\n",
       "<table border=\"1\" class=\"dataframe\">\n",
       "  <thead>\n",
       "    <tr style=\"text-align: right;\">\n",
       "      <th></th>\n",
       "      <th>Seniority</th>\n",
       "      <th>Min Years of experience (YOE)</th>\n",
       "      <th>SQL</th>\n",
       "      <th>PYTHON</th>\n",
       "    </tr>\n",
       "  </thead>\n",
       "  <tbody>\n",
       "    <tr>\n",
       "      <th>0</th>\n",
       "      <td>Junior</td>\n",
       "      <td>2.0</td>\n",
       "      <td>Y</td>\n",
       "      <td>N</td>\n",
       "    </tr>\n",
       "    <tr>\n",
       "      <th>1</th>\n",
       "      <td>Junior</td>\n",
       "      <td>0.0</td>\n",
       "      <td>N</td>\n",
       "      <td>Y</td>\n",
       "    </tr>\n",
       "    <tr>\n",
       "      <th>2</th>\n",
       "      <td>Senior</td>\n",
       "      <td>0.0</td>\n",
       "      <td>Y</td>\n",
       "      <td>Y</td>\n",
       "    </tr>\n",
       "    <tr>\n",
       "      <th>3</th>\n",
       "      <td>Junior</td>\n",
       "      <td>0.0</td>\n",
       "      <td>Y</td>\n",
       "      <td>Y</td>\n",
       "    </tr>\n",
       "    <tr>\n",
       "      <th>4</th>\n",
       "      <td>Junior</td>\n",
       "      <td>0.0</td>\n",
       "      <td>N</td>\n",
       "      <td>Y</td>\n",
       "    </tr>\n",
       "    <tr>\n",
       "      <th>5</th>\n",
       "      <td>Senior</td>\n",
       "      <td>0.0</td>\n",
       "      <td>Y</td>\n",
       "      <td>Y</td>\n",
       "    </tr>\n",
       "    <tr>\n",
       "      <th>6</th>\n",
       "      <td>Junior</td>\n",
       "      <td>1.0</td>\n",
       "      <td>Y</td>\n",
       "      <td>Y</td>\n",
       "    </tr>\n",
       "    <tr>\n",
       "      <th>7</th>\n",
       "      <td>Senior</td>\n",
       "      <td>0.0</td>\n",
       "      <td>Y</td>\n",
       "      <td>Y</td>\n",
       "    </tr>\n",
       "    <tr>\n",
       "      <th>8</th>\n",
       "      <td>Senior</td>\n",
       "      <td>0.0</td>\n",
       "      <td>Y</td>\n",
       "      <td>Y</td>\n",
       "    </tr>\n",
       "    <tr>\n",
       "      <th>9</th>\n",
       "      <td>Junior</td>\n",
       "      <td>0.0</td>\n",
       "      <td>N</td>\n",
       "      <td>N</td>\n",
       "    </tr>\n",
       "    <tr>\n",
       "      <th>10</th>\n",
       "      <td>Junior</td>\n",
       "      <td>0.0</td>\n",
       "      <td>Y</td>\n",
       "      <td>Y</td>\n",
       "    </tr>\n",
       "    <tr>\n",
       "      <th>11</th>\n",
       "      <td>Senior</td>\n",
       "      <td>0.0</td>\n",
       "      <td>Y</td>\n",
       "      <td>Y</td>\n",
       "    </tr>\n",
       "    <tr>\n",
       "      <th>12</th>\n",
       "      <td>Junior</td>\n",
       "      <td>0.0</td>\n",
       "      <td>N</td>\n",
       "      <td>Y</td>\n",
       "    </tr>\n",
       "    <tr>\n",
       "      <th>13</th>\n",
       "      <td>Senior</td>\n",
       "      <td>0.0</td>\n",
       "      <td>Y</td>\n",
       "      <td>Y</td>\n",
       "    </tr>\n",
       "    <tr>\n",
       "      <th>14</th>\n",
       "      <td>Junior</td>\n",
       "      <td>0.0</td>\n",
       "      <td>N</td>\n",
       "      <td>N</td>\n",
       "    </tr>\n",
       "    <tr>\n",
       "      <th>15</th>\n",
       "      <td>Junior</td>\n",
       "      <td>3.0</td>\n",
       "      <td>Y</td>\n",
       "      <td>Y</td>\n",
       "    </tr>\n",
       "    <tr>\n",
       "      <th>16</th>\n",
       "      <td>Junior</td>\n",
       "      <td>5.0</td>\n",
       "      <td>Y</td>\n",
       "      <td>Y</td>\n",
       "    </tr>\n",
       "    <tr>\n",
       "      <th>17</th>\n",
       "      <td>Senior</td>\n",
       "      <td>0.0</td>\n",
       "      <td>Y</td>\n",
       "      <td>Y</td>\n",
       "    </tr>\n",
       "    <tr>\n",
       "      <th>18</th>\n",
       "      <td>Senior</td>\n",
       "      <td>3.0</td>\n",
       "      <td>Y</td>\n",
       "      <td>N</td>\n",
       "    </tr>\n",
       "    <tr>\n",
       "      <th>19</th>\n",
       "      <td>Senior</td>\n",
       "      <td>0.0</td>\n",
       "      <td>Y</td>\n",
       "      <td>Y</td>\n",
       "    </tr>\n",
       "    <tr>\n",
       "      <th>20</th>\n",
       "      <td>Junior</td>\n",
       "      <td>0.0</td>\n",
       "      <td>Y</td>\n",
       "      <td>Y</td>\n",
       "    </tr>\n",
       "    <tr>\n",
       "      <th>21</th>\n",
       "      <td>Senior</td>\n",
       "      <td>5.0</td>\n",
       "      <td>Y</td>\n",
       "      <td>Y</td>\n",
       "    </tr>\n",
       "    <tr>\n",
       "      <th>22</th>\n",
       "      <td>Senior</td>\n",
       "      <td>5.0</td>\n",
       "      <td>Y</td>\n",
       "      <td>N</td>\n",
       "    </tr>\n",
       "    <tr>\n",
       "      <th>23</th>\n",
       "      <td>Senior</td>\n",
       "      <td>0.0</td>\n",
       "      <td>Y</td>\n",
       "      <td>Y</td>\n",
       "    </tr>\n",
       "    <tr>\n",
       "      <th>24</th>\n",
       "      <td>Senior</td>\n",
       "      <td>0.0</td>\n",
       "      <td>Y</td>\n",
       "      <td>Y</td>\n",
       "    </tr>\n",
       "  </tbody>\n",
       "</table>\n",
       "</div>"
      ],
      "text/plain": [
       "   Seniority   Min Years of experience (YOE) SQL PYTHON\n",
       "0      Junior                            2.0   Y      N\n",
       "1      Junior                            0.0   N      Y\n",
       "2      Senior                            0.0   Y      Y\n",
       "3      Junior                            0.0   Y      Y\n",
       "4      Junior                            0.0   N      Y\n",
       "5      Senior                            0.0   Y      Y\n",
       "6      Junior                            1.0   Y      Y\n",
       "7      Senior                            0.0   Y      Y\n",
       "8      Senior                            0.0   Y      Y\n",
       "9      Junior                            0.0   N      N\n",
       "10     Junior                            0.0   Y      Y\n",
       "11     Senior                            0.0   Y      Y\n",
       "12     Junior                            0.0   N      Y\n",
       "13     Senior                            0.0   Y      Y\n",
       "14     Junior                            0.0   N      N\n",
       "15     Junior                            3.0   Y      Y\n",
       "16     Junior                            5.0   Y      Y\n",
       "17     Senior                            0.0   Y      Y\n",
       "18     Senior                            3.0   Y      N\n",
       "19     Senior                            0.0   Y      Y\n",
       "20     Junior                            0.0   Y      Y\n",
       "21     Senior                            5.0   Y      Y\n",
       "22     Senior                            5.0   Y      N\n",
       "23     Senior                            0.0   Y      Y\n",
       "24     Senior                            0.0   Y      Y"
      ]
     },
     "execution_count": 67,
     "metadata": {},
     "output_type": "execute_result"
    }
   ],
   "source": [
    "X"
   ]
  },
  {
   "cell_type": "code",
   "execution_count": 68,
   "id": "a0d1c9f8-a0f2-446f-9052-14426de164ef",
   "metadata": {},
   "outputs": [
    {
     "data": {
      "text/html": [
       "<div>\n",
       "<style scoped>\n",
       "    .dataframe tbody tr th:only-of-type {\n",
       "        vertical-align: middle;\n",
       "    }\n",
       "\n",
       "    .dataframe tbody tr th {\n",
       "        vertical-align: top;\n",
       "    }\n",
       "\n",
       "    .dataframe thead th {\n",
       "        text-align: right;\n",
       "    }\n",
       "</style>\n",
       "<table border=\"1\" class=\"dataframe\">\n",
       "  <thead>\n",
       "    <tr style=\"text-align: right;\">\n",
       "      <th></th>\n",
       "      <th>Seniority</th>\n",
       "      <th>Min Years of experience (YOE)</th>\n",
       "      <th>SQL</th>\n",
       "      <th>PYTHON</th>\n",
       "    </tr>\n",
       "  </thead>\n",
       "  <tbody>\n",
       "    <tr>\n",
       "      <th>5</th>\n",
       "      <td>Senior</td>\n",
       "      <td>0.0</td>\n",
       "      <td>Y</td>\n",
       "      <td>Y</td>\n",
       "    </tr>\n",
       "    <tr>\n",
       "      <th>2</th>\n",
       "      <td>Senior</td>\n",
       "      <td>0.0</td>\n",
       "      <td>Y</td>\n",
       "      <td>Y</td>\n",
       "    </tr>\n",
       "    <tr>\n",
       "      <th>12</th>\n",
       "      <td>Junior</td>\n",
       "      <td>0.0</td>\n",
       "      <td>N</td>\n",
       "      <td>Y</td>\n",
       "    </tr>\n",
       "    <tr>\n",
       "      <th>15</th>\n",
       "      <td>Junior</td>\n",
       "      <td>3.0</td>\n",
       "      <td>Y</td>\n",
       "      <td>Y</td>\n",
       "    </tr>\n",
       "    <tr>\n",
       "      <th>3</th>\n",
       "      <td>Junior</td>\n",
       "      <td>0.0</td>\n",
       "      <td>Y</td>\n",
       "      <td>Y</td>\n",
       "    </tr>\n",
       "    <tr>\n",
       "      <th>4</th>\n",
       "      <td>Junior</td>\n",
       "      <td>0.0</td>\n",
       "      <td>N</td>\n",
       "      <td>Y</td>\n",
       "    </tr>\n",
       "    <tr>\n",
       "      <th>20</th>\n",
       "      <td>Junior</td>\n",
       "      <td>0.0</td>\n",
       "      <td>Y</td>\n",
       "      <td>Y</td>\n",
       "    </tr>\n",
       "    <tr>\n",
       "      <th>17</th>\n",
       "      <td>Senior</td>\n",
       "      <td>0.0</td>\n",
       "      <td>Y</td>\n",
       "      <td>Y</td>\n",
       "    </tr>\n",
       "    <tr>\n",
       "      <th>21</th>\n",
       "      <td>Senior</td>\n",
       "      <td>5.0</td>\n",
       "      <td>Y</td>\n",
       "      <td>Y</td>\n",
       "    </tr>\n",
       "    <tr>\n",
       "      <th>18</th>\n",
       "      <td>Senior</td>\n",
       "      <td>3.0</td>\n",
       "      <td>Y</td>\n",
       "      <td>N</td>\n",
       "    </tr>\n",
       "    <tr>\n",
       "      <th>24</th>\n",
       "      <td>Senior</td>\n",
       "      <td>0.0</td>\n",
       "      <td>Y</td>\n",
       "      <td>Y</td>\n",
       "    </tr>\n",
       "    <tr>\n",
       "      <th>7</th>\n",
       "      <td>Senior</td>\n",
       "      <td>0.0</td>\n",
       "      <td>Y</td>\n",
       "      <td>Y</td>\n",
       "    </tr>\n",
       "    <tr>\n",
       "      <th>10</th>\n",
       "      <td>Junior</td>\n",
       "      <td>0.0</td>\n",
       "      <td>Y</td>\n",
       "      <td>Y</td>\n",
       "    </tr>\n",
       "    <tr>\n",
       "      <th>14</th>\n",
       "      <td>Junior</td>\n",
       "      <td>0.0</td>\n",
       "      <td>N</td>\n",
       "      <td>N</td>\n",
       "    </tr>\n",
       "    <tr>\n",
       "      <th>19</th>\n",
       "      <td>Senior</td>\n",
       "      <td>0.0</td>\n",
       "      <td>Y</td>\n",
       "      <td>Y</td>\n",
       "    </tr>\n",
       "    <tr>\n",
       "      <th>6</th>\n",
       "      <td>Junior</td>\n",
       "      <td>1.0</td>\n",
       "      <td>Y</td>\n",
       "      <td>Y</td>\n",
       "    </tr>\n",
       "  </tbody>\n",
       "</table>\n",
       "</div>"
      ],
      "text/plain": [
       "   Seniority   Min Years of experience (YOE) SQL PYTHON\n",
       "5      Senior                            0.0   Y      Y\n",
       "2      Senior                            0.0   Y      Y\n",
       "12     Junior                            0.0   N      Y\n",
       "15     Junior                            3.0   Y      Y\n",
       "3      Junior                            0.0   Y      Y\n",
       "4      Junior                            0.0   N      Y\n",
       "20     Junior                            0.0   Y      Y\n",
       "17     Senior                            0.0   Y      Y\n",
       "21     Senior                            5.0   Y      Y\n",
       "18     Senior                            3.0   Y      N\n",
       "24     Senior                            0.0   Y      Y\n",
       "7      Senior                            0.0   Y      Y\n",
       "10     Junior                            0.0   Y      Y\n",
       "14     Junior                            0.0   N      N\n",
       "19     Senior                            0.0   Y      Y\n",
       "6      Junior                            1.0   Y      Y"
      ]
     },
     "execution_count": 68,
     "metadata": {},
     "output_type": "execute_result"
    }
   ],
   "source": [
    "X_train"
   ]
  },
  {
   "cell_type": "code",
   "execution_count": 69,
   "id": "3826cda9-fd3e-4fb4-930d-1b7c90d33a53",
   "metadata": {},
   "outputs": [
    {
     "data": {
      "text/html": [
       "<div>\n",
       "<style scoped>\n",
       "    .dataframe tbody tr th:only-of-type {\n",
       "        vertical-align: middle;\n",
       "    }\n",
       "\n",
       "    .dataframe tbody tr th {\n",
       "        vertical-align: top;\n",
       "    }\n",
       "\n",
       "    .dataframe thead th {\n",
       "        text-align: right;\n",
       "    }\n",
       "</style>\n",
       "<table border=\"1\" class=\"dataframe\">\n",
       "  <thead>\n",
       "    <tr style=\"text-align: right;\">\n",
       "      <th></th>\n",
       "      <th>Seniority</th>\n",
       "      <th>Min Years of experience (YOE)</th>\n",
       "      <th>SQL</th>\n",
       "      <th>PYTHON</th>\n",
       "    </tr>\n",
       "  </thead>\n",
       "  <tbody>\n",
       "    <tr>\n",
       "      <th>8</th>\n",
       "      <td>Senior</td>\n",
       "      <td>0.0</td>\n",
       "      <td>Y</td>\n",
       "      <td>Y</td>\n",
       "    </tr>\n",
       "    <tr>\n",
       "      <th>16</th>\n",
       "      <td>Junior</td>\n",
       "      <td>5.0</td>\n",
       "      <td>Y</td>\n",
       "      <td>Y</td>\n",
       "    </tr>\n",
       "    <tr>\n",
       "      <th>0</th>\n",
       "      <td>Junior</td>\n",
       "      <td>2.0</td>\n",
       "      <td>Y</td>\n",
       "      <td>N</td>\n",
       "    </tr>\n",
       "    <tr>\n",
       "      <th>23</th>\n",
       "      <td>Senior</td>\n",
       "      <td>0.0</td>\n",
       "      <td>Y</td>\n",
       "      <td>Y</td>\n",
       "    </tr>\n",
       "    <tr>\n",
       "      <th>11</th>\n",
       "      <td>Senior</td>\n",
       "      <td>0.0</td>\n",
       "      <td>Y</td>\n",
       "      <td>Y</td>\n",
       "    </tr>\n",
       "    <tr>\n",
       "      <th>9</th>\n",
       "      <td>Junior</td>\n",
       "      <td>0.0</td>\n",
       "      <td>N</td>\n",
       "      <td>N</td>\n",
       "    </tr>\n",
       "    <tr>\n",
       "      <th>13</th>\n",
       "      <td>Senior</td>\n",
       "      <td>0.0</td>\n",
       "      <td>Y</td>\n",
       "      <td>Y</td>\n",
       "    </tr>\n",
       "    <tr>\n",
       "      <th>1</th>\n",
       "      <td>Junior</td>\n",
       "      <td>0.0</td>\n",
       "      <td>N</td>\n",
       "      <td>Y</td>\n",
       "    </tr>\n",
       "    <tr>\n",
       "      <th>22</th>\n",
       "      <td>Senior</td>\n",
       "      <td>5.0</td>\n",
       "      <td>Y</td>\n",
       "      <td>N</td>\n",
       "    </tr>\n",
       "  </tbody>\n",
       "</table>\n",
       "</div>"
      ],
      "text/plain": [
       "   Seniority   Min Years of experience (YOE) SQL PYTHON\n",
       "8      Senior                            0.0   Y      Y\n",
       "16     Junior                            5.0   Y      Y\n",
       "0      Junior                            2.0   Y      N\n",
       "23     Senior                            0.0   Y      Y\n",
       "11     Senior                            0.0   Y      Y\n",
       "9      Junior                            0.0   N      N\n",
       "13     Senior                            0.0   Y      Y\n",
       "1      Junior                            0.0   N      Y\n",
       "22     Senior                            5.0   Y      N"
      ]
     },
     "execution_count": 69,
     "metadata": {},
     "output_type": "execute_result"
    }
   ],
   "source": [
    "X_test"
   ]
  },
  {
   "cell_type": "markdown",
   "id": "856e5f2e-da0d-4c95-ac78-e514d517b4fc",
   "metadata": {},
   "source": [
    "### Encode categorical variables"
   ]
  },
  {
   "cell_type": "code",
   "execution_count": 76,
   "id": "8cfe5498-5104-4058-8243-38956d892f22",
   "metadata": {},
   "outputs": [],
   "source": [
    "# import category encoders\n",
    "\n",
    "import category_encoders as ce"
   ]
  },
  {
   "cell_type": "code",
   "execution_count": 79,
   "id": "18a45eca-28b2-4cb2-81f9-fc3254176236",
   "metadata": {},
   "outputs": [],
   "source": [
    "encoder = ce.OrdinalEncoder(cols=X)\n",
    "\n",
    "\n",
    "X_train = encoder.fit_transform(X_train)\n",
    "\n",
    "X_test = encoder.transform(X_test)"
   ]
  },
  {
   "cell_type": "code",
   "execution_count": 80,
   "id": "d867cc55-93d5-4db6-aca1-4a85590a566a",
   "metadata": {},
   "outputs": [
    {
     "data": {
      "text/html": [
       "<div>\n",
       "<style scoped>\n",
       "    .dataframe tbody tr th:only-of-type {\n",
       "        vertical-align: middle;\n",
       "    }\n",
       "\n",
       "    .dataframe tbody tr th {\n",
       "        vertical-align: top;\n",
       "    }\n",
       "\n",
       "    .dataframe thead th {\n",
       "        text-align: right;\n",
       "    }\n",
       "</style>\n",
       "<table border=\"1\" class=\"dataframe\">\n",
       "  <thead>\n",
       "    <tr style=\"text-align: right;\">\n",
       "      <th></th>\n",
       "      <th>Seniority</th>\n",
       "      <th>Min Years of experience (YOE)</th>\n",
       "      <th>SQL</th>\n",
       "      <th>PYTHON</th>\n",
       "    </tr>\n",
       "  </thead>\n",
       "  <tbody>\n",
       "    <tr>\n",
       "      <th>5</th>\n",
       "      <td>1</td>\n",
       "      <td>1</td>\n",
       "      <td>1</td>\n",
       "      <td>1</td>\n",
       "    </tr>\n",
       "    <tr>\n",
       "      <th>2</th>\n",
       "      <td>1</td>\n",
       "      <td>1</td>\n",
       "      <td>1</td>\n",
       "      <td>1</td>\n",
       "    </tr>\n",
       "    <tr>\n",
       "      <th>12</th>\n",
       "      <td>2</td>\n",
       "      <td>1</td>\n",
       "      <td>2</td>\n",
       "      <td>1</td>\n",
       "    </tr>\n",
       "    <tr>\n",
       "      <th>15</th>\n",
       "      <td>2</td>\n",
       "      <td>2</td>\n",
       "      <td>1</td>\n",
       "      <td>1</td>\n",
       "    </tr>\n",
       "    <tr>\n",
       "      <th>3</th>\n",
       "      <td>2</td>\n",
       "      <td>1</td>\n",
       "      <td>1</td>\n",
       "      <td>1</td>\n",
       "    </tr>\n",
       "    <tr>\n",
       "      <th>4</th>\n",
       "      <td>2</td>\n",
       "      <td>1</td>\n",
       "      <td>2</td>\n",
       "      <td>1</td>\n",
       "    </tr>\n",
       "    <tr>\n",
       "      <th>20</th>\n",
       "      <td>2</td>\n",
       "      <td>1</td>\n",
       "      <td>1</td>\n",
       "      <td>1</td>\n",
       "    </tr>\n",
       "    <tr>\n",
       "      <th>17</th>\n",
       "      <td>1</td>\n",
       "      <td>1</td>\n",
       "      <td>1</td>\n",
       "      <td>1</td>\n",
       "    </tr>\n",
       "    <tr>\n",
       "      <th>21</th>\n",
       "      <td>1</td>\n",
       "      <td>3</td>\n",
       "      <td>1</td>\n",
       "      <td>1</td>\n",
       "    </tr>\n",
       "    <tr>\n",
       "      <th>18</th>\n",
       "      <td>1</td>\n",
       "      <td>2</td>\n",
       "      <td>1</td>\n",
       "      <td>2</td>\n",
       "    </tr>\n",
       "    <tr>\n",
       "      <th>24</th>\n",
       "      <td>1</td>\n",
       "      <td>1</td>\n",
       "      <td>1</td>\n",
       "      <td>1</td>\n",
       "    </tr>\n",
       "    <tr>\n",
       "      <th>7</th>\n",
       "      <td>1</td>\n",
       "      <td>1</td>\n",
       "      <td>1</td>\n",
       "      <td>1</td>\n",
       "    </tr>\n",
       "    <tr>\n",
       "      <th>10</th>\n",
       "      <td>2</td>\n",
       "      <td>1</td>\n",
       "      <td>1</td>\n",
       "      <td>1</td>\n",
       "    </tr>\n",
       "    <tr>\n",
       "      <th>14</th>\n",
       "      <td>2</td>\n",
       "      <td>1</td>\n",
       "      <td>2</td>\n",
       "      <td>2</td>\n",
       "    </tr>\n",
       "    <tr>\n",
       "      <th>19</th>\n",
       "      <td>1</td>\n",
       "      <td>1</td>\n",
       "      <td>1</td>\n",
       "      <td>1</td>\n",
       "    </tr>\n",
       "    <tr>\n",
       "      <th>6</th>\n",
       "      <td>2</td>\n",
       "      <td>4</td>\n",
       "      <td>1</td>\n",
       "      <td>1</td>\n",
       "    </tr>\n",
       "  </tbody>\n",
       "</table>\n",
       "</div>"
      ],
      "text/plain": [
       "    Seniority   Min Years of experience (YOE)  SQL  PYTHON\n",
       "5            1                              1    1       1\n",
       "2            1                              1    1       1\n",
       "12           2                              1    2       1\n",
       "15           2                              2    1       1\n",
       "3            2                              1    1       1\n",
       "4            2                              1    2       1\n",
       "20           2                              1    1       1\n",
       "17           1                              1    1       1\n",
       "21           1                              3    1       1\n",
       "18           1                              2    1       2\n",
       "24           1                              1    1       1\n",
       "7            1                              1    1       1\n",
       "10           2                              1    1       1\n",
       "14           2                              1    2       2\n",
       "19           1                              1    1       1\n",
       "6            2                              4    1       1"
      ]
     },
     "execution_count": 80,
     "metadata": {},
     "output_type": "execute_result"
    }
   ],
   "source": [
    "X_train"
   ]
  },
  {
   "cell_type": "markdown",
   "id": "15be5f1c-b152-4520-abe1-431a052ab791",
   "metadata": {},
   "source": [
    "## Random Forest Classifier model"
   ]
  },
  {
   "cell_type": "code",
   "execution_count": null,
   "id": "b0fb33c3-4f75-41a8-8b9a-8937c5951f8e",
   "metadata": {},
   "outputs": [],
   "source": [
    "# import Random Forest classifier\n",
    "\n",
    "from sklearn.ensemble import RandomForestClassifier"
   ]
  },
  {
   "cell_type": "code",
   "execution_count": null,
   "id": "d3c0aac7-b1cb-4989-87a0-d5efa4458292",
   "metadata": {},
   "outputs": [],
   "source": [
    "# instantiate the classifier \n",
    "\n",
    "rfc = RandomForestClassifier(random_state=0)"
   ]
  },
  {
   "cell_type": "code",
   "execution_count": null,
   "id": "74f3469f-e7f6-4879-b651-e2d40ea1a0c6",
   "metadata": {},
   "outputs": [],
   "source": [
    "# fit the model\n",
    "\n",
    "rfc.fit(X_train, y_train)"
   ]
  },
  {
   "cell_type": "code",
   "execution_count": null,
   "id": "38ece9c2-624c-4a3b-8d6f-13ff45e78069",
   "metadata": {},
   "outputs": [],
   "source": [
    "# Predict the Test set results\n",
    "\n",
    "y_pred = rfc.predict(X_test)"
   ]
  },
  {
   "cell_type": "code",
   "execution_count": 107,
   "id": "89fb24f8-107a-4411-bd0d-f2f0af9fe1bb",
   "metadata": {},
   "outputs": [],
   "source": [
    "# Test using a new data frame\n",
    "\n",
    "X_another_test = pd.DataFrame({\n",
    "    'Seniority ': [2],  # Example: New job seniorities\n",
    "    'Min Years of experience (YOE)': [2],  # Example: Years of experience\n",
    "    'SQL': [1],  # SQL requirement\n",
    "    'PYTHON': [1]  # Python requirement\n",
    "})"
   ]
  },
  {
   "cell_type": "code",
   "execution_count": 108,
   "id": "2412cb62-50aa-4f71-a2e6-c79a2fd006e8",
   "metadata": {},
   "outputs": [
    {
     "data": {
      "text/html": [
       "<div>\n",
       "<style scoped>\n",
       "    .dataframe tbody tr th:only-of-type {\n",
       "        vertical-align: middle;\n",
       "    }\n",
       "\n",
       "    .dataframe tbody tr th {\n",
       "        vertical-align: top;\n",
       "    }\n",
       "\n",
       "    .dataframe thead th {\n",
       "        text-align: right;\n",
       "    }\n",
       "</style>\n",
       "<table border=\"1\" class=\"dataframe\">\n",
       "  <thead>\n",
       "    <tr style=\"text-align: right;\">\n",
       "      <th></th>\n",
       "      <th>Seniority</th>\n",
       "      <th>Min Years of experience (YOE)</th>\n",
       "      <th>SQL</th>\n",
       "      <th>PYTHON</th>\n",
       "    </tr>\n",
       "  </thead>\n",
       "  <tbody>\n",
       "    <tr>\n",
       "      <th>0</th>\n",
       "      <td>2</td>\n",
       "      <td>2</td>\n",
       "      <td>1</td>\n",
       "      <td>1</td>\n",
       "    </tr>\n",
       "  </tbody>\n",
       "</table>\n",
       "</div>"
      ],
      "text/plain": [
       "   Seniority   Min Years of experience (YOE)  SQL  PYTHON\n",
       "0           2                              2    1       1"
      ]
     },
     "execution_count": 108,
     "metadata": {},
     "output_type": "execute_result"
    }
   ],
   "source": [
    "X_another_test"
   ]
  },
  {
   "cell_type": "code",
   "execution_count": 106,
   "id": "ff25cbb9-970e-481d-a2ad-2593d0febecc",
   "metadata": {},
   "outputs": [
    {
     "name": "stdout",
     "output_type": "stream",
     "text": [
      "['N']\n"
     ]
    }
   ],
   "source": [
    "predictions = rfc.predict(X_again)\n",
    "print(predictions)"
   ]
  },
  {
   "cell_type": "markdown",
   "id": "533409a7-566c-4408-9a5e-ed0a47571958",
   "metadata": {},
   "source": [
    "The model has learnt that roles with Seniority of senior and roles requiring any years of experince are not worth applying for which is correct.   "
   ]
  },
  {
   "cell_type": "markdown",
   "id": "cf414a58-2bbb-4d47-b22f-601bf7230b06",
   "metadata": {},
   "source": [
    "## Model Evaluation"
   ]
  },
  {
   "cell_type": "code",
   "execution_count": 86,
   "id": "e13849a7-ec4f-4b10-b4c4-77d17c4b09cd",
   "metadata": {},
   "outputs": [
    {
     "name": "stdout",
     "output_type": "stream",
     "text": [
      "              precision    recall  f1-score   support\n",
      "\n",
      "           N       1.00      0.86      0.92         7\n",
      "           Y       0.67      1.00      0.80         2\n",
      "\n",
      "    accuracy                           0.89         9\n",
      "   macro avg       0.83      0.93      0.86         9\n",
      "weighted avg       0.93      0.89      0.90         9\n",
      "\n",
      "Model accuracy score: 0.8889\n"
     ]
    }
   ],
   "source": [
    "# Check accuracy score \n",
    "\n",
    "from sklearn.metrics import accuracy_score\n",
    "\n",
    "\n",
    "from sklearn.metrics import classification_report\n",
    "print(classification_report(y_test,y_pred))\n",
    "print('Model accuracy score: {0:0.4f}'. format(accuracy_score(y_test, y_pred)))"
   ]
  },
  {
   "cell_type": "code",
   "execution_count": null,
   "id": "ecd85f00-73af-415f-a736-2cc38a7b3cf7",
   "metadata": {},
   "outputs": [],
   "source": [
    "From the model accuracy assessment above, we can conclude that the model accurcay is good. "
   ]
  },
  {
   "cell_type": "code",
   "execution_count": 109,
   "id": "fae7ea5d-63d9-43ce-853a-05c6a93f750c",
   "metadata": {},
   "outputs": [
    {
     "name": "stdout",
     "output_type": "stream",
     "text": [
      "Confusion matrix\n",
      "\n",
      " [[6 1]\n",
      " [0 2]]\n"
     ]
    }
   ],
   "source": [
    "# Print the Confusion Matrix and slice it into four pieces\n",
    "\n",
    "from sklearn.metrics import confusion_matrix\n",
    "\n",
    "cm = confusion_matrix(y_test, y_pred)\n",
    "\n",
    "print('Confusion matrix\\n\\n', cm)"
   ]
  },
  {
   "cell_type": "markdown",
   "id": "8a167574-9793-42f4-8989-c023c65eb953",
   "metadata": {},
   "source": [
    "Performance metrics show that the model is highly accurate, where accuracy = TP + TN / Total Predictions = 89.89%. Furthermore, the recall is 100% as the model identifies all instances of class 1. Precision comes to about 66.67%. Overall the model is performing well, espically as recall is a priority. There is the issue of the false negative, however, it is low and I do not waste too much time applying to non applicable jobs. "
   ]
  },
  {
   "cell_type": "markdown",
   "id": "54afbc11-81a8-4f7a-a9ea-5a8b6d7fa09f",
   "metadata": {},
   "source": [
    "## Results and conclusion"
   ]
  },
  {
   "cell_type": "markdown",
   "id": "b1c63e5c-c3d3-46b2-b5a7-717576649e39",
   "metadata": {},
   "source": [
    "This project aimed to streamline the job application process by developing a data-driven model to predict whether a job is worth applying for, based on the alignment of job descriptions with personal qualifications and preferences. The model was built to optimize time and effort by providing actionable recommendations: \"Yes\" (apply) or \"No\" (do not apply).\n",
    "\n",
    "Key results:\n",
    "- Accuracy: The model achieved an accuracy of 88.89%, indicating it correctly predicted the applicability of most jobs.\n",
    "- Recall (Sensitivity): With a recall of 100% for applicable jobs, the model successfully identified all relevant opportunities, ensuring no potential jobs were overlooked.\n",
    "- Precision: The precision of 66.67% highlights that while most predictions for applicable jobs were correct, there is room for improvement in minimizing false positives.\n",
    "\n",
    "The project successfully met its objective of automating the decision-making process for job applications. By leveraging the model, it is possible to focus efforts on roles where there is a high likelihood of securing an interview, significantly improving efficiency."
   ]
  }
 ],
 "metadata": {
  "kernelspec": {
   "display_name": "Python 3 (ipykernel)",
   "language": "python",
   "name": "python3"
  },
  "language_info": {
   "codemirror_mode": {
    "name": "ipython",
    "version": 3
   },
   "file_extension": ".py",
   "mimetype": "text/x-python",
   "name": "python",
   "nbconvert_exporter": "python",
   "pygments_lexer": "ipython3",
   "version": "3.12.7"
  }
 },
 "nbformat": 4,
 "nbformat_minor": 5
}
